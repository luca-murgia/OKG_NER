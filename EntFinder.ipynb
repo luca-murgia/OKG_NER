{
 "cells": [
  {
   "cell_type": "markdown",
   "metadata": {},
   "source": [
    "## Phrase matcher with Entity Ruler"
   ]
  },
  {
   "cell_type": "code",
   "execution_count": 3,
   "metadata": {},
   "outputs": [],
   "source": [
    "# imports\n",
    "import spacy\n",
    "from spacy import displacy\n",
    "from spacy.matcher import Matcher, PhraseMatcher\n",
    "from spacy.tokens import Token, Span\n",
    "from spacy.pipeline import EntityRuler\n",
    "from spacy.kb import KnowledgeBase\n",
    "from py2neo import Graph,Subgraph,Node,Relationship,cypher,data\n",
    "import pandas\n",
    "from pandas import DataFrame\n",
    "import numpy as np\n",
    "\n",
    "# Graph load\n",
    "graph = Graph(\"bolt://localhost:7687\", user=\"neo4j\", password=\"graph\")\n",
    "\n",
    "# Model load, NLP object init, vocab init\n",
    "nlp = spacy.load(\"en_core_web_sm\")\n",
    "vocab = nlp.vocab\n",
    "\n",
    "# Phrase matcher init\n",
    "matcher = PhraseMatcher(nlp.vocab,attr=\"LOWER\")"
   ]
  },
  {
   "cell_type": "markdown",
   "metadata": {},
   "source": [
    "## Phrase Matcher Creation"
   ]
  },
  {
   "cell_type": "code",
   "execution_count": 4,
   "metadata": {},
   "outputs": [],
   "source": [
    "from spacy.pipeline import EntityRuler\n",
    "\n",
    "# entity ruler creation\n",
    "nlp = spacy.load(\"en_core_web_sm\")\n",
    "ruler = EntityRuler(nlp)\n",
    "\n",
    "# match all classes\n",
    "cursor = graph.run(\"match (class:Class) return class.name \")\n",
    "df = DataFrame(cursor)\n",
    "\n",
    "# creates a list of class nodes\n",
    "classList = list(df[0])\n",
    "patterns = []"
   ]
  },
  {
   "cell_type": "code",
   "execution_count": 5,
   "metadata": {},
   "outputs": [],
   "source": [
    "# Creating a list of Tokens\n",
    "for tokenClass in classList:\n",
    "    cursor = graph.run(\"match (t:Token)-[:INSTANCE_OF]->(c:Class {name:'\"+tokenClass+\"'}) return t.name\")\n",
    "    df = DataFrame(cursor)\n",
    "    tokenList = list(df[0])\n",
    "    tokenList = [t.lower() for t in tokenList]\n",
    "\n",
    "    patterns.append({\"label\":tokenClass,\"pattern\":[{\"LOWER\":{\"IN\":tokenList}}]})\n",
    "    \n",
    "ruler.add_patterns(patterns)\n",
    "nlp.add_pipe(ruler)"
   ]
  },
  {
   "cell_type": "markdown",
   "metadata": {},
   "source": [
    "## Functions"
   ]
  },
  {
   "cell_type": "markdown",
   "metadata": {},
   "source": [
    "### EntFinder"
   ]
  },
  {
   "cell_type": "markdown",
   "metadata": {},
   "source": [
    "### EntFinder: Finds a missing entity in the graph given a sentence with a known entity and a known relationship"
   ]
  },
  {
   "cell_type": "code",
   "execution_count": 12,
   "metadata": {},
   "outputs": [],
   "source": [
    "def entFinder(doc, entity):\n",
    "    \n",
    "    root1 = entity.root\n",
    "    \n",
    "    deps = dict()\n",
    "    deps.update({root1.dep_:root1})\n",
    "    \n",
    "    for root2 in doc:\n",
    "        deps.update({root2.dep_:root2})\n",
    "        \n",
    "    nsubj = deps.get(\"nsubj\")\n",
    "    dobj = deps.get(\"dobj\")\n",
    "    root = deps.get(\"ROOT\")\n",
    "        \n",
    "    if(nsubj != None and dobj != None and root != None):\n",
    "        print(nsubj, root, dobj)\n",
    "        print(\"\\n\")\n",
    "\n",
    "        cursor = graph.run(\"match(s:Class {name:'\"+entity.label_+\n",
    "                  \"'})<-[r:\"+str.upper(root.lemma_).replace(\" \",\"_\")+\n",
    "                  \"]->(e) return e.name\")\n",
    "        \n",
    "        if(cursor.next!=None):\n",
    "            df = DataFrame(cursor)\n",
    "            print(f\"{entity.text:<10}{entity.label_:<10}\")\n",
    "            print(f\"{dobj.text:<10}{df.iloc[0,0]}\")\n",
    "            print(\"\\n\")"
   ]
  },
  {
   "cell_type": "markdown",
   "metadata": {},
   "source": [
    "### Test"
   ]
  },
  {
   "cell_type": "code",
   "execution_count": 59,
   "metadata": {},
   "outputs": [
    {
     "data": {
      "text/html": [
       "<span class=\"tex2jax_ignore\"><div class=\"entities\" style=\"line-height: 2.5; direction: ltr\">the \n",
       "<mark class=\"entity\" style=\"background: #ddd; padding: 0.45em 0.6em; margin: 0 0.25em; line-height: 1; border-radius: 0.35em;\">\n",
       "    malware\n",
       "    <span style=\"font-size: 0.8em; font-weight: bold; line-height: 1; border-radius: 0.35em; text-transform: uppercase; vertical-align: middle; margin-left: 0.5rem\">Technology</span>\n",
       "</mark>\n",
       " is using SSN stolen from \n",
       "<mark class=\"entity\" style=\"background: #feca74; padding: 0.45em 0.6em; margin: 0 0.25em; line-height: 1; border-radius: 0.35em;\">\n",
       "    new york\n",
       "    <span style=\"font-size: 0.8em; font-weight: bold; line-height: 1; border-radius: 0.35em; text-transform: uppercase; vertical-align: middle; margin-left: 0.5rem\">GPE</span>\n",
       "</mark>\n",
       " citizen</div></span>"
      ],
      "text/plain": [
       "<IPython.core.display.HTML object>"
      ]
     },
     "metadata": {},
     "output_type": "display_data"
    }
   ],
   "source": [
    "doc = nlp(\"the malware is using SSN stolen from new york citizen\")\n",
    "displacy.render(doc,style=\"ent\")"
   ]
  },
  {
   "cell_type": "code",
   "execution_count": 58,
   "metadata": {},
   "outputs": [
    {
     "name": "stdout",
     "output_type": "stream",
     "text": [
      "malware using ssn\n",
      "\n",
      "\n",
      "malware   Technology\n",
      "ssn       Information\n",
      "\n",
      "\n"
     ]
    }
   ],
   "source": [
    "#for ent in doc.ents:\n",
    " #   print (ent.label_)\n",
    "    \n",
    "entFinder(doc, doc.ents[0])"
   ]
  }
 ],
 "metadata": {
  "kernelspec": {
   "display_name": "Python 3",
   "language": "python",
   "name": "python3"
  },
  "language_info": {
   "codemirror_mode": {
    "name": "ipython",
    "version": 3
   },
   "file_extension": ".py",
   "mimetype": "text/x-python",
   "name": "python",
   "nbconvert_exporter": "python",
   "pygments_lexer": "ipython3",
   "version": "3.6.9"
  }
 },
 "nbformat": 4,
 "nbformat_minor": 4
}
