{
 "cells": [
  {
   "cell_type": "markdown",
   "metadata": {},
   "source": [
    "# Neo4j graph from xlsx document"
   ]
  },
  {
   "cell_type": "markdown",
   "metadata": {},
   "source": [
    "## Input\n",
    "\n",
    "- xlsx file\n",
    "    - Nodes are taken from the columns:\n",
    "        - \"entity_starting\" \n",
    "        - \"entity_ending\"\n",
    "    - the relationships are taken from the columns labeled: \n",
    "        - \"relationship\"\n"
   ]
  },
  {
   "cell_type": "markdown",
   "metadata": {},
   "source": [
    "## Output\n",
    "\n",
    "#### An Onthologic Knowledge Graph having all nodes and relationships specified in the document"
   ]
  },
  {
   "cell_type": "markdown",
   "metadata": {},
   "source": [
    "## Importing document as dataFrame"
   ]
  },
  {
   "cell_type": "code",
   "execution_count": 1,
   "metadata": {},
   "outputs": [],
   "source": [
    "import pandas\n",
    "from py2neo import Graph,Subgraph,Node,Relationship\n",
    "\n",
    "# document path\n",
    "path = \"/home/luca/Documents/ontologia.xlsx\"\n",
    "path2 = \"/home/luca/Documents/tokens.xlsx\"\n",
    "\n",
    "dataFrame = pandas.read_excel(path, na_values=['NA'])\n",
    "dataFrame2 = pandas.read_excel(path2, na_values=['NA'])"
   ]
  },
  {
   "cell_type": "code",
   "execution_count": 2,
   "metadata": {},
   "outputs": [],
   "source": [
    "import spacy\n",
    "nlp = spacy.load(\"en_core_web_sm\")"
   ]
  },
  {
   "cell_type": "code",
   "execution_count": 3,
   "metadata": {},
   "outputs": [
    {
     "data": {
      "text/plain": [
       "entity_starting  relationship    entity_ending  type_of_relationship\n",
       "application      affects         user           influence               1\n",
       "                 by integrating  information    usage                   1\n",
       "                 concerning      requirement    influence               1\n",
       "                 determines      purpose        intention               1\n",
       "dtype: int64"
      ]
     },
     "execution_count": 3,
     "metadata": {},
     "output_type": "execute_result"
    }
   ],
   "source": [
    "dataFrame3 = dataFrame.groupby(dataFrame.columns.tolist(),as_index=False).size()\n",
    "dataFrame3.head(4)"
   ]
  },
  {
   "cell_type": "markdown",
   "metadata": {},
   "source": [
    "## Importing graph"
   ]
  },
  {
   "cell_type": "code",
   "execution_count": 4,
   "metadata": {},
   "outputs": [],
   "source": [
    "graph = Graph(\"bolt://localhost:7687\", user=\"neo4j\", password=\"graph\")"
   ]
  },
  {
   "cell_type": "markdown",
   "metadata": {},
   "source": [
    "## Iterating through values, saving nodes in a dictionary to avoid multiple occurrences"
   ]
  },
  {
   "cell_type": "code",
   "execution_count": 5,
   "metadata": {},
   "outputs": [],
   "source": [
    "graph.delete_all()"
   ]
  },
  {
   "cell_type": "code",
   "execution_count": 6,
   "metadata": {},
   "outputs": [],
   "source": [
    "# Auxiliary data structures in order to avoid multiple occurrences of the same nodes\n",
    "classes = dict()\n",
    "relationships = set()\n",
    "relationships2=set()\n",
    "tokens = dict()"
   ]
  },
  {
   "cell_type": "markdown",
   "metadata": {},
   "source": [
    "### Adding Class nodes into dictionary"
   ]
  },
  {
   "cell_type": "code",
   "execution_count": 7,
   "metadata": {},
   "outputs": [],
   "source": [
    "for index, row in dataFrame.iterrows():\n",
    "    starter = Node(\"Class\", type=row['entity_starting'], name=str.capitalize(row['entity_starting']))\n",
    "    ender = Node(\"Class\",type=row[\"entity_ending\"],name=str.capitalize(row['entity_ending']))\n",
    "    classes.update({row[\"entity_starting\"]:starter})\n",
    "    classes.update({row[\"entity_ending\"]:ender})"
   ]
  },
  {
   "cell_type": "markdown",
   "metadata": {},
   "source": [
    "### Adding relationships to set, pushing data into graph"
   ]
  },
  {
   "cell_type": "code",
   "execution_count": 8,
   "metadata": {},
   "outputs": [],
   "source": [
    "for index, row in dataFrame.iterrows():\n",
    "    doc = nlp(row[\"relationship\"])\n",
    "    relationship = Relationship(classes.get(row[\"entity_starting\"]),\n",
    "                                str.upper(doc[0:].lemma_).replace(\" \",\"_\"),\n",
    "                                classes.get(row[\"entity_ending\"]),\n",
    "                                type=str.capitalize(row[\"type_of_relationship\"]),\n",
    "                                name=str.capitalize(row[\"relationship\"]))\n",
    "    relationships.add(relationship)\n",
    "\n",
    "for relationship in relationships:\n",
    "    graph.create(relationship)"
   ]
  },
  {
   "cell_type": "markdown",
   "metadata": {},
   "source": [
    "### Adding Instance nodes to dictionary"
   ]
  },
  {
   "cell_type": "code",
   "execution_count": 9,
   "metadata": {},
   "outputs": [],
   "source": [
    "for index, row in dataFrame2.iterrows():\n",
    "    token = Node(\"Token\", type=str.lower(row['class']), name=str.capitalize(row['token']))\n",
    "    tokens.update({row[\"token\"]:token})"
   ]
  },
  {
   "cell_type": "markdown",
   "metadata": {},
   "source": [
    "### Adding hierarchy relationship to set"
   ]
  },
  {
   "cell_type": "code",
   "execution_count": 10,
   "metadata": {},
   "outputs": [],
   "source": [
    "for key in tokens:\n",
    "    starter = tokens[key]\n",
    "    ender = classes.get(dict(starter).get(\"type\"))\n",
    "    relationship = Relationship(starter,\"INSTANCE_OF\",ender,type=\"hierarchy\")\n",
    "    relationships2.add(relationship)"
   ]
  },
  {
   "cell_type": "markdown",
   "metadata": {},
   "source": [
    "### Pushing relationships into graph"
   ]
  },
  {
   "cell_type": "code",
   "execution_count": 11,
   "metadata": {},
   "outputs": [],
   "source": [
    "for relationship in relationships2:\n",
    "    graph.create(relationship)"
   ]
  }
 ],
 "metadata": {
  "kernelspec": {
   "display_name": "Python 3",
   "language": "python",
   "name": "python3"
  },
  "language_info": {
   "codemirror_mode": {
    "name": "ipython",
    "version": 3
   },
   "file_extension": ".py",
   "mimetype": "text/x-python",
   "name": "python",
   "nbconvert_exporter": "python",
   "pygments_lexer": "ipython3",
   "version": "3.6.9"
  }
 },
 "nbformat": 4,
 "nbformat_minor": 4
}
